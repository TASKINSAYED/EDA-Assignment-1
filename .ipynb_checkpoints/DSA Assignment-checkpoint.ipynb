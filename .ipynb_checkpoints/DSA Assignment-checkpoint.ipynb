{
 "cells": [
  {
   "cell_type": "code",
   "execution_count": 1,
   "id": "91b11efd-eed3-4404-9c0e-13ff6dee600d",
   "metadata": {},
   "outputs": [
    {
     "name": "stdout",
     "output_type": "stream",
     "text": [
      "5 -> 4 -> 3 -> 2 -> 1 -> "
     ]
    }
   ],
   "source": [
    "#Answer of problems:-\n",
    "#1)\n",
    "class ListNode:\n",
    "    def __init__(self, value=0, next=None):\n",
    "        self.value = value\n",
    "        self.next = next\n",
    "\n",
    "def reverse_linked_list(head):\n",
    "    prev = None\n",
    "    current = head\n",
    "\n",
    "    while current is not None:\n",
    "        next_node = current.next\n",
    "        current.next = prev\n",
    "        prev = current\n",
    "        current = next_node\n",
    "\n",
    "    return prev\n",
    "\n",
    "head = ListNode(1, ListNode(2, ListNode(3, ListNode(4, ListNode(5)))))\n",
    "\n",
    "\n",
    "new_head = reverse_linked_list(head)\n",
    "\n",
    "\n",
    "while new_head is not None:\n",
    "    print(new_head.value, end=\" -> \")\n",
    "    new_head = new_head.next\n"
   ]
  },
  {
   "cell_type": "code",
   "execution_count": 2,
   "id": "953609cd-63b4-43cf-9cbc-039773318f9b",
   "metadata": {},
   "outputs": [
    {
     "name": "stdout",
     "output_type": "stream",
     "text": [
      "1 -> 2 -> 3 -> 4 -> 5 -> 6 -> "
     ]
    }
   ],
   "source": [
    "#2)\n",
    "class ListNode:\n",
    "    def __init__(self, value=0, next=None):\n",
    "        self.value = value\n",
    "        self.next = next\n",
    "\n",
    "def merge_sorted_lists(list1, list2):\n",
    "    dummy = ListNode()\n",
    "    current = dummy\n",
    "\n",
    "    while list1 is not None and list2 is not None:\n",
    "        if list1.value < list2.value:\n",
    "            current.next = list1\n",
    "            list1 = list1.next\n",
    "        else:\n",
    "            current.next = list2\n",
    "            list2 = list2.next\n",
    "\n",
    "        current = current.next\n",
    "\n",
    "    if list1 is not None:\n",
    "        current.next = list1\n",
    "    elif list2 is not None:\n",
    "        current.next = list2\n",
    "\n",
    "    return dummy.next\n",
    "\n",
    "\n",
    "list1 = ListNode(1, ListNode(3, ListNode(5)))\n",
    "list2 = ListNode(2, ListNode(4, ListNode(6)))\n",
    "\n",
    "\n",
    "merged_list = merge_sorted_lists(list1, list2)\n",
    "\n",
    "\n",
    "while merged_list is not None:\n",
    "    print(merged_list.value, end=\" -> \")\n",
    "    merged_list = merged_list.next\n"
   ]
  },
  {
   "cell_type": "code",
   "execution_count": 3,
   "id": "66b531af-fc52-4c1b-82ef-a014e0943f02",
   "metadata": {},
   "outputs": [
    {
     "name": "stdout",
     "output_type": "stream",
     "text": [
      "1 -> 2 -> 3 -> 5 -> "
     ]
    }
   ],
   "source": [
    "#3)\n",
    "class ListNode:\n",
    "    def __init__(self, value=0, next=None):\n",
    "        self.value = value\n",
    "        self.next = next\n",
    "\n",
    "def remove_nth_from_end(head, n):\n",
    "    dummy = ListNode(0)\n",
    "    dummy.next = head\n",
    "    first = dummy\n",
    "    second = dummy\n",
    "\n",
    "    for _ in range(n + 1):\n",
    "        second = second.next\n",
    "\n",
    "\n",
    "    while second is not None:\n",
    "        first = first.next\n",
    "        second = second.next\n",
    "\n",
    "\n",
    "    first.next = first.next.next\n",
    "\n",
    "    return dummy.next\n",
    "\n",
    "\n",
    "head = ListNode(1, ListNode(2, ListNode(3, ListNode(4, ListNode(5)))))\n",
    "\n",
    "\n",
    "new_head = remove_nth_from_end(head, 2)\n",
    "\n",
    "\n",
    "while new_head is not None:\n",
    "    print(new_head.value, end=\" -> \")\n",
    "    new_head = new_head.next\n",
    "\n"
   ]
  },
  {
   "cell_type": "code",
   "execution_count": 4,
   "id": "c1412d5b-0de4-48c7-a820-be81c8f13b07",
   "metadata": {},
   "outputs": [
    {
     "name": "stdout",
     "output_type": "stream",
     "text": [
      "Intersection Node Value: 3\n"
     ]
    }
   ],
   "source": [
    "#4)\n",
    "class ListNode:\n",
    "    def __init__(self, value=0, next=None):\n",
    "        self.value = value\n",
    "        self.next = next\n",
    "\n",
    "def get_intersection_node(headA, headB):\n",
    "    if not headA or not headB:\n",
    "        return None\n",
    "\n",
    "    pointerA, pointerB = headA, headB\n",
    "\n",
    "    while pointerA != pointerB:\n",
    "        pointerA = pointerA.next if pointerA else headB\n",
    "        pointerB = pointerB.next if pointerB else headA\n",
    "\n",
    "    return pointerA\n",
    "\n",
    "\n",
    "list1 = ListNode(1, ListNode(2, ListNode(3, ListNode(4))))\n",
    "list2 = ListNode(9, ListNode(8, list1.next.next))\n",
    "\n",
    "\n",
    "intersection_node = get_intersection_node(list1, list2)\n",
    "\n",
    "if intersection_node:\n",
    "    print(f\"Intersection Node Value: {intersection_node.value}\")\n",
    "else:\n",
    "    print(\"No intersection point found.\")\n"
   ]
  },
  {
   "cell_type": "code",
   "execution_count": 5,
   "id": "e772b24c-7446-4341-b0a1-0f1a96322981",
   "metadata": {},
   "outputs": [
    {
     "name": "stdout",
     "output_type": "stream",
     "text": [
      "1 -> 2 -> 3 -> "
     ]
    }
   ],
   "source": [
    "#5)\n",
    "class ListNode:\n",
    "    def __init__(self, value=0, next=None):\n",
    "        self.value = value\n",
    "        self.next = next\n",
    "\n",
    "def remove_duplicates(head):\n",
    "    current = head\n",
    "\n",
    "    while current is not None and current.next is not None:\n",
    "        if current.value == current.next.value:\n",
    "            current.next = current.next.next\n",
    "        else:\n",
    "            current = current.next\n",
    "\n",
    "    return head\n",
    "\n",
    "\n",
    "head = ListNode(1, ListNode(1, ListNode(2, ListNode(3, ListNode(3)))))\n",
    "\n",
    "\n",
    "new_head = remove_duplicates(head)\n",
    "\n",
    "\n",
    "while new_head is not None:\n",
    "    print(new_head.value, end=\" -> \")\n",
    "    new_head = new_head.next\n",
    "\n"
   ]
  },
  {
   "cell_type": "code",
   "execution_count": 6,
   "id": "7eab929b-bfa1-40c5-abdd-db7f03d648b5",
   "metadata": {},
   "outputs": [
    {
     "name": "stdout",
     "output_type": "stream",
     "text": [
      "7 -> 0 -> 8 -> "
     ]
    }
   ],
   "source": [
    "#6)\n",
    "class ListNode:\n",
    "    def __init__(self, value=0, next=None):\n",
    "        self.value = value\n",
    "        self.next = next\n",
    "\n",
    "def add_two_numbers(l1, l2):\n",
    "    dummy = ListNode()\n",
    "    current = dummy\n",
    "    carry = 0\n",
    "\n",
    "    while l1 is not None or l2 is not None or carry:\n",
    "        \n",
    "        x = l1.value if l1 else 0\n",
    "        y = l2.value if l2 else 0\n",
    "\n",
    "        \n",
    "        total = x + y + carry\n",
    "        carry = total // 10\n",
    "        current.next = ListNode(total % 10)\n",
    "        \n",
    "        \n",
    "        l1 = l1.next if l1 else None\n",
    "        l2 = l2.next if l2 else None\n",
    "        current = current.next\n",
    "\n",
    "    return dummy.next\n",
    "\n",
    "\n",
    "list1 = ListNode(2, ListNode(4, ListNode(3)))\n",
    "list2 = ListNode(5, ListNode(6, ListNode(4)))\n",
    "\n",
    "\n",
    "result = add_two_numbers(list1, list2)\n",
    "\n",
    "\n",
    "while result is not None:\n",
    "    print(result.value, end=\" -> \")\n",
    "    result = result.next\n",
    "\n"
   ]
  },
  {
   "cell_type": "code",
   "execution_count": 7,
   "id": "554db3cf-098b-4198-a7da-f5642c47d55a",
   "metadata": {},
   "outputs": [
    {
     "name": "stdout",
     "output_type": "stream",
     "text": [
      "2 -> 1 -> 4 -> 3 -> "
     ]
    }
   ],
   "source": [
    "#7)\n",
    "class ListNode:\n",
    "    def __init__(self, value=0, next=None):\n",
    "        self.value = value\n",
    "        self.next = next\n",
    "\n",
    "def swap_pairs(head):\n",
    "    dummy = ListNode()\n",
    "    dummy.next = head\n",
    "    current = dummy\n",
    "\n",
    "    while current.next is not None and current.next.next is not None:\n",
    "        \n",
    "        first = current.next\n",
    "        second = current.next.next\n",
    "\n",
    "        \n",
    "        current.next = second\n",
    "        first.next = second.next\n",
    "        second.next = first\n",
    "\n",
    "        \n",
    "        current = current.next.next\n",
    "\n",
    "    return dummy.next\n",
    "\n",
    "\n",
    "head = ListNode(1, ListNode(2, ListNode(3, ListNode(4))))\n",
    "\n",
    "\n",
    "new_head = swap_pairs(head)\n",
    "\n",
    "\n",
    "while new_head is not None:\n",
    "    print(new_head.value, end=\" -> \")\n",
    "    new_head = new_head.next\n"
   ]
  },
  {
   "cell_type": "code",
   "execution_count": 8,
   "id": "ea89cc03-66f1-4570-819f-a4e275344410",
   "metadata": {},
   "outputs": [
    {
     "name": "stdout",
     "output_type": "stream",
     "text": [
      "3 -> 2 -> 1 -> 4 -> 5 -> "
     ]
    }
   ],
   "source": [
    "#8)\n",
    "class ListNode:\n",
    "    def __init__(self, value=0, next=None):\n",
    "        self.value = value\n",
    "        self.next = next\n",
    "\n",
    "def reverse_k_group(head, k):\n",
    "    def reverse_list(start, end):\n",
    "        prev = None\n",
    "        current = start\n",
    "\n",
    "        while current != end:\n",
    "            next_node = current.next\n",
    "            current.next = prev\n",
    "            prev = current\n",
    "            current = next_node\n",
    "\n",
    "        return prev\n",
    "\n",
    "    dummy = ListNode()\n",
    "    dummy.next = head\n",
    "    pre_group_end = dummy\n",
    "    current = head\n",
    "\n",
    "    while current:\n",
    "        group_start = current\n",
    "        group_end = current\n",
    "\n",
    "        for _ in range(k):\n",
    "            if group_end is None:\n",
    "                break\n",
    "            group_end = group_end.next\n",
    "\n",
    "        if group_end is None:\n",
    "            break\n",
    "\n",
    "        \n",
    "        pre_group_end.next = reverse_list(group_start, group_end)\n",
    "        group_start.next = group_end\n",
    "        pre_group_end = group_start\n",
    "        current = group_end.next\n",
    "\n",
    "    return dummy.next\n",
    "\n",
    "\n",
    "head = ListNode(1, ListNode(2, ListNode(3, ListNode(4, ListNode(5)))))\n",
    "\n",
    "\n",
    "new_head = reverse_k_group(head, 3)\n",
    "\n",
    "\n",
    "while new_head is not None:\n",
    "    print(new_head.value, end=\" -> \")\n",
    "    new_head = new_head.next\n"
   ]
  },
  {
   "cell_type": "code",
   "execution_count": 9,
   "id": "cf90b69b-7678-4e4c-8c95-f058a54a98d8",
   "metadata": {},
   "outputs": [
    {
     "name": "stdout",
     "output_type": "stream",
     "text": [
      "True\n"
     ]
    }
   ],
   "source": [
    "#9)\n",
    "class ListNode:\n",
    "    def __init__(self, value=0, next=None):\n",
    "        self.value = value\n",
    "        self.next = next\n",
    "\n",
    "def is_palindrome(head):\n",
    "    def reverse_list(node):\n",
    "        prev = None\n",
    "        current = node\n",
    "\n",
    "        while current is not None:\n",
    "            next_node = current.next\n",
    "            current.next = prev\n",
    "            prev = current\n",
    "            current = next_node\n",
    "\n",
    "        return prev\n",
    "\n",
    "    \n",
    "    slow = head\n",
    "    fast = head\n",
    "\n",
    "    while fast is not None and fast.next is not None:\n",
    "        slow = slow.next\n",
    "        fast = fast.next.next\n",
    "\n",
    "    \n",
    "    reversed_second_half = reverse_list(slow)\n",
    "\n",
    "    \n",
    "    while reversed_second_half is not None:\n",
    "        if head.value != reversed_second_half.value:\n",
    "            return False\n",
    "        head = head.next\n",
    "        reversed_second_half = reversed_second_half.next\n",
    "\n",
    "    return True\n",
    "\n",
    "palindrome_list = ListNode(1, ListNode(2, ListNode(2, ListNode(1))))\n",
    "\n",
    "\n",
    "result = is_palindrome(palindrome_list)\n",
    "\n",
    "print(result)  \n"
   ]
  },
  {
   "cell_type": "code",
   "execution_count": 10,
   "id": "f2e8bd9d-f0e5-4e8e-a734-f8f1f2861b9e",
   "metadata": {},
   "outputs": [
    {
     "name": "stdout",
     "output_type": "stream",
     "text": [
      "4 -> 5 -> 1 -> 2 -> 3 -> "
     ]
    }
   ],
   "source": [
    "#10)\n",
    "class ListNode:\n",
    "    def __init__(self, value=0, next=None):\n",
    "        self.value = value\n",
    "        self.next = next\n",
    "\n",
    "def rotate_right(head, k):\n",
    "    if not head or k == 0:\n",
    "        return head\n",
    "\n",
    "    \n",
    "    length = 1\n",
    "    tail = head\n",
    "    while tail.next:\n",
    "        length += 1\n",
    "        tail = tail.next\n",
    "\n",
    "\n",
    "    k = k % length\n",
    "\n",
    "    if k == 0:\n",
    "        return head\n",
    "\n",
    "    \n",
    "    new_tail_position = length - k - 1\n",
    "    new_tail = head\n",
    "    for _ in range(new_tail_position):\n",
    "        new_tail = new_tail.next\n",
    "\n",
    "    new_head = new_tail.next\n",
    "    new_tail.next = None\n",
    "    tail.next = head\n",
    "\n",
    "    return new_head\n",
    "\n",
    "\n",
    "head = ListNode(1, ListNode(2, ListNode(3, ListNode(4, ListNode(5)))))\n",
    "\n",
    "\n",
    "new_head = rotate_right(head, 2)\n",
    "\n",
    "while new_head is not None:\n",
    "    print(new_head.value, end=\" -> \")\n",
    "    new_head = new_head.next\n",
    "\n"
   ]
  },
  {
   "cell_type": "code",
   "execution_count": 11,
   "id": "f01a5655-ed60-4f1c-937a-572f222c437a",
   "metadata": {},
   "outputs": [
    {
     "name": "stdout",
     "output_type": "stream",
     "text": [
      "Original Linked List:\n",
      "1 <-> 2 <-> 3 <-> 8 <-> 9 <-> 12 <-> 13 <-> None\n",
      "\n",
      "Flattened Linked List:\n",
      "1 <-> 2 <-> 3 <-> 4 <-> 5 <-> 6 <-> 7 <-> 8 <-> 9 <-> 10 <-> 11 <-> 12 <-> 13 <-> None\n"
     ]
    }
   ],
   "source": [
    "#11)\n",
    "class Node:\n",
    "    def __init__(self, value, prev=None, next=None, child=None):\n",
    "        self.value = value\n",
    "        self.prev = prev\n",
    "        self.next = next\n",
    "        self.child = child\n",
    "\n",
    "def flatten_linked_list(head):\n",
    "    if not head:\n",
    "        return None\n",
    "\n",
    "    current = head\n",
    "\n",
    "    while current:\n",
    "        if current.child:\n",
    "            child_tail = current.child\n",
    "            while child_tail.next:\n",
    "                child_tail = child_tail.next\n",
    "\n",
    "            next_node = current.next\n",
    "            current.next = current.child\n",
    "            current.child.prev = current\n",
    "            current.child = None\n",
    "\n",
    "            if next_node:\n",
    "                child_tail.next = next_node\n",
    "                next_node.prev = child_tail\n",
    "\n",
    "        current = current.next\n",
    "\n",
    "    return head\n",
    "def print_linked_list(head):\n",
    "    current = head\n",
    "    while current:\n",
    "        print(current.value, end=\" <-> \")\n",
    "        current = current.next\n",
    "    print(\"None\")\n",
    "head = Node(1)\n",
    "head.next = Node(2)\n",
    "head.next.prev = head\n",
    "head.next.next = Node(3)\n",
    "head.next.next.prev = head.next\n",
    "head.next.next.next = Node(8)\n",
    "head.next.next.next.prev = head.next.next\n",
    "head.next.next.next.next = Node(9)\n",
    "head.next.next.next.next.prev = head.next.next.next\n",
    "head.next.next.next.next.next = Node(12)\n",
    "head.next.next.next.next.next.prev = head.next.next.next.next\n",
    "head.next.next.next.next.next.next = Node(13)\n",
    "head.next.next.next.next.next.next.prev = head.next.next.next.next.next\n",
    "\n",
    "head.next.next.child = Node(4)\n",
    "head.next.next.child.next = Node(5)\n",
    "head.next.next.child.next.prev = head.next.next.child\n",
    "head.next.next.child.next.next = Node(6)\n",
    "head.next.next.child.next.next.prev = head.next.next.child.next\n",
    "head.next.next.child.next.next.next = Node(7)\n",
    "head.next.next.child.next.next.next.prev = head.next.next.child.next.next\n",
    "\n",
    "head.next.next.next.next.child = Node(10)\n",
    "head.next.next.next.next.child.next = Node(11)\n",
    "head.next.next.next.next.child.next.prev = head.next.next.next.next.child\n",
    "\n",
    "print(\"Original Linked List:\")\n",
    "print_linked_list(head)\n",
    "\n",
    "head = flatten_linked_list(head)\n",
    "\n",
    "print(\"\\nFlattened Linked List:\")\n",
    "print_linked_list(head)\n",
    "\n"
   ]
  },
  {
   "cell_type": "code",
   "execution_count": 12,
   "id": "abc7522d-21a5-4720-ac75-bda66e2b6558",
   "metadata": {},
   "outputs": [
    {
     "name": "stdout",
     "output_type": "stream",
     "text": [
      "Input:\n",
      "1 -> 2 -> 3 -> 4 -> 5 -> None\n",
      "\n",
      "Output:\n",
      "1 -> 3 -> 5 -> 2 -> 4 -> None\n"
     ]
    }
   ],
   "source": [
    "#12)\n",
    "class ListNode:\n",
    "    def __init__(self, value=0, next=None):\n",
    "        self.value = value\n",
    "        self.next = next\n",
    "\n",
    "def rearrange_linked_list(head):\n",
    "    if not head or not head.next or not head.next.next:\n",
    "        return head\n",
    "\n",
    "    odd_head, even_head = ListNode(), ListNode()\n",
    "    odd_curr, even_curr = odd_head, even_head\n",
    "    current = head\n",
    "    is_odd = True\n",
    "\n",
    "    while current:\n",
    "        if is_odd:\n",
    "            odd_curr.next = current\n",
    "            odd_curr = odd_curr.next\n",
    "        else:\n",
    "            even_curr.next = current\n",
    "            even_curr = even_curr.next\n",
    "\n",
    "        is_odd = not is_odd\n",
    "        current = current.next\n",
    "\n",
    "    even_curr.next = None  \n",
    "    odd_curr.next = even_head.next\n",
    "\n",
    "    return odd_head.next\n",
    "\n",
    "def print_linked_list(head):\n",
    "    current = head\n",
    "    while current:\n",
    "        print(current.value, end=\" -> \")\n",
    "        current = current.next\n",
    "    print(\"None\")\n",
    "\n",
    "head = ListNode(1, ListNode(2, ListNode(3, ListNode(4, ListNode(5)))))\n",
    "print(\"Input:\")\n",
    "print_linked_list(head)\n",
    "\n",
    "result = rearrange_linked_list(head)\n",
    "print(\"\\nOutput:\")\n",
    "print_linked_list(result)\n"
   ]
  },
  {
   "cell_type": "code",
   "execution_count": 13,
   "id": "4bb4e10d-803d-412f-b6ed-c7bfd28ae1c6",
   "metadata": {},
   "outputs": [
    {
     "name": "stdout",
     "output_type": "stream",
     "text": [
      "Input:\n",
      "1 -> 2 -> 3 -> None\n",
      "\n",
      "Output:\n",
      "1 -> 2 -> 4 -> None\n"
     ]
    }
   ],
   "source": [
    "#13)\n",
    "class ListNode:\n",
    "    def __init__(self, value=0, next=None):\n",
    "        self.value = value\n",
    "        self.next = next\n",
    "\n",
    "def add_one_to_linked_list(head):\n",
    "    def reverse_linked_list(node):\n",
    "        prev = None\n",
    "        current = node\n",
    "        while current:\n",
    "            next_node = current.next\n",
    "            current.next = prev\n",
    "            prev = current\n",
    "            current = next_node\n",
    "        return prev\n",
    "\n",
    "    reversed_head = reverse_linked_list(head)\n",
    "\n",
    "    current = reversed_head\n",
    "    carry = 1\n",
    "\n",
    "    while current:\n",
    "        total = current.value + carry\n",
    "        current.value = total % 10\n",
    "        carry = total // 10\n",
    "\n",
    "        if not current.next and carry:\n",
    "            current.next = ListNode(carry)\n",
    "            break\n",
    "\n",
    "        current = current.next\n",
    "\n",
    "    result_head = reverse_linked_list(reversed_head)\n",
    "\n",
    "    return result_head\n",
    "def print_linked_list(head):\n",
    "    current = head\n",
    "    while current:\n",
    "        print(current.value, end=\" -> \")\n",
    "        current = current.next\n",
    "    print(\"None\")\n",
    "head = ListNode(1, ListNode(2, ListNode(3)))\n",
    "print(\"Input:\")\n",
    "print_linked_list(head)\n",
    "\n",
    "result = add_one_to_linked_list(head)\n",
    "print(\"\\nOutput:\")\n",
    "print_linked_list(result)\n"
   ]
  },
  {
   "cell_type": "code",
   "execution_count": 14,
   "id": "50a35d40-0831-43bf-a041-a7f70e78ccc6",
   "metadata": {},
   "outputs": [
    {
     "name": "stdout",
     "output_type": "stream",
     "text": [
      "Output: 2\n"
     ]
    }
   ],
   "source": [
    "#14)\n",
    "def search_insert(nums, target):\n",
    "    left, right = 0, len(nums) - 1\n",
    "\n",
    "    while left <= right:\n",
    "        mid = left + (right - left) // 2\n",
    "\n",
    "        if nums[mid] == target:\n",
    "            return mid\n",
    "        elif nums[mid] < target:\n",
    "            left = mid + 1\n",
    "        else:\n",
    "            right = mid - 1\n",
    "\n",
    "    return left  \n",
    "nums = [1, 3, 5, 6]\n",
    "target = 5\n",
    "output = search_insert(nums, target)\n",
    "print(\"Output:\", output)\n",
    "\n"
   ]
  },
  {
   "cell_type": "code",
   "execution_count": 15,
   "id": "f0499c29-0ee4-4502-a867-28fc3a2e99c1",
   "metadata": {},
   "outputs": [
    {
     "name": "stdout",
     "output_type": "stream",
     "text": [
      "Output: 0\n"
     ]
    }
   ],
   "source": [
    "#15)\n",
    "def find_min(nums):\n",
    "    left, right = 0, len(nums) - 1\n",
    "\n",
    "    while left < right:\n",
    "        mid = left + (right - left) // 2\n",
    "\n",
    "        if nums[mid] > nums[right]:\n",
    "            \n",
    "            left = mid + 1\n",
    "        else:\n",
    "            right = mid\n",
    "\n",
    "    return nums[left]\n",
    "\n",
    "\n",
    "nums = [4, 5, 6, 7, 0, 1, 2]\n",
    "output = find_min(nums)\n",
    "print(\"Output:\", output)\n"
   ]
  },
  {
   "cell_type": "code",
   "execution_count": 16,
   "id": "d1c6ac99-2350-491b-bacb-7f2956b3782d",
   "metadata": {},
   "outputs": [
    {
     "name": "stdout",
     "output_type": "stream",
     "text": [
      "Output: 4\n"
     ]
    }
   ],
   "source": [
    "#16)\n",
    "def search(nums, target):\n",
    "    left, right = 0, len(nums) - 1\n",
    "\n",
    "    while left <= right:\n",
    "        mid = left + (right - left) // 2\n",
    "\n",
    "        if nums[mid] == target:\n",
    "            return mid\n",
    "\n",
    "        if nums[left] <= nums[mid]:\n",
    "            if nums[left] <= target <= nums[mid]:\n",
    "                right = mid - 1\n",
    "            else:\n",
    "                left = mid + 1\n",
    "        else:\n",
    "            if nums[mid] <= target <= nums[right]:\n",
    "                left = mid + 1\n",
    "            else:\n",
    "                right = mid - 1\n",
    "    return -1  \n",
    "nums = [4, 5, 6, 7, 0, 1, 2]\n",
    "target = 0\n",
    "output = search(nums, target)\n",
    "print(\"Output:\", output)\n",
    "\n"
   ]
  },
  {
   "cell_type": "code",
   "execution_count": 17,
   "id": "cbfcec47-6ffa-42ea-ba0e-0937f2995716",
   "metadata": {},
   "outputs": [
    {
     "name": "stdout",
     "output_type": "stream",
     "text": [
      "Output: 2\n"
     ]
    }
   ],
   "source": [
    "#17)\n",
    "def find_peak_element(nums):\n",
    "    left, right = 0, len(nums) - 1\n",
    "\n",
    "    while left < right:\n",
    "        mid = left + (right - left) // 2\n",
    "\n",
    "        if nums[mid] > nums[mid + 1]:\n",
    "            right = mid\n",
    "        else:\n",
    "            \n",
    "            left = mid + 1\n",
    "\n",
    "    return left\n",
    "nums = [1, 2, 3, 1]\n",
    "output = find_peak_element(nums)\n",
    "print(\"Output:\", output)\n"
   ]
  },
  {
   "cell_type": "code",
   "execution_count": 18,
   "id": "8f7f8fd9-ce3f-433b-a8dc-21a63f0ed663",
   "metadata": {},
   "outputs": [
    {
     "name": "stdout",
     "output_type": "stream",
     "text": [
      "Output: 8\n"
     ]
    }
   ],
   "source": [
    "#18)\n",
    "def count_negatives(grid):\n",
    "    m, n = len(grid), len(grid[0])\n",
    "    count = 0\n",
    "    row, col = 0, n - 1\n",
    "\n",
    "    while row < m and col >= 0:\n",
    "        if grid[row][col] < 0:\n",
    "            count += (m - row)  \n",
    "            col -= 1\n",
    "        else:\n",
    "            row += 1\n",
    "\n",
    "    return count\n",
    "grid = [\n",
    "    [4, 3, 2, -1],\n",
    "    [3, 2, 1, -1],\n",
    "    [1, 1, -1, -2],\n",
    "    [-1, -1, -2, -3]\n",
    "]\n",
    "output = count_negatives(grid)\n",
    "print(\"Output:\", output)\n"
   ]
  },
  {
   "cell_type": "code",
   "execution_count": 19,
   "id": "5280245d-957c-4dfd-a190-64ce2488500d",
   "metadata": {},
   "outputs": [
    {
     "name": "stdout",
     "output_type": "stream",
     "text": [
      "Output: True\n"
     ]
    }
   ],
   "source": [
    "#19)\n",
    "def search_matrix(matrix, target):\n",
    "    if not matrix or not matrix[0]:\n",
    "        return False\n",
    "\n",
    "    rows, cols = len(matrix), len(matrix[0])\n",
    "    left, right = 0, rows * cols - 1\n",
    "\n",
    "    while left <= right:\n",
    "        mid = (left + right) // 2\n",
    "        mid_value = matrix[mid // cols][mid % cols]\n",
    "\n",
    "        if mid_value == target:\n",
    "            return True\n",
    "        elif mid_value < target:\n",
    "            left = mid + 1\n",
    "        else:\n",
    "            right = mid - 1\n",
    "\n",
    "    return False\n",
    "matrix = [\n",
    "    [1, 3, 5, 7],\n",
    "    [10, 11, 16, 20],\n",
    "    [23, 30, 34, 60]\n",
    "]\n",
    "target = 3\n",
    "output = search_matrix(matrix, target)\n",
    "print(\"Output:\", output)"
   ]
  },
  {
   "cell_type": "code",
   "execution_count": 20,
   "id": "0f55683e-d798-4069-a19f-2e60d6d61689",
   "metadata": {},
   "outputs": [
    {
     "name": "stdout",
     "output_type": "stream",
     "text": [
      "Output: 2\n"
     ]
    }
   ],
   "source": [
    "#20)\n",
    "def findMedianSortedArrays(nums1, nums2):\n",
    "    if len(nums1) > len(nums2):\n",
    "        nums1, nums2 = nums2, nums1\n",
    "\n",
    "    x, y = len(nums1), len(nums2)\n",
    "    low, high = 0, x\n",
    "\n",
    "    while low <= high:\n",
    "        partitionX = (low + high) // 2\n",
    "        partitionY = (x + y + 1) // 2 - partitionX\n",
    "\n",
    "        maxX = float('-inf') if partitionX == 0 else nums1[partitionX - 1]\n",
    "        minX = float('inf') if partitionX == x else nums1[partitionX]\n",
    "\n",
    "        maxY = float('-inf') if partitionY == 0 else nums2[partitionY - 1]\n",
    "        minY = float('inf') if partitionY == y else nums2[partitionY]\n",
    "\n",
    "        if maxX <= minY and maxY <= minX:\n",
    "            if (x + y) % 2 == 0:\n",
    "                return (max(maxX, maxY) + min(minX, minY)) / 2.0\n",
    "            else:\n",
    "                return max(maxX, maxY)\n",
    "        elif maxX > minY:\n",
    "            high = partitionX - 1\n",
    "        else:\n",
    "            low = partitionX + 1\n",
    "\n",
    "nums1 = [1, 3]\n",
    "nums2 = [2]\n",
    "output = findMedianSortedArrays(nums1, nums2)\n",
    "print(\"Output:\", output)"
   ]
  },
  {
   "cell_type": "code",
   "execution_count": 21,
   "id": "3fffd4f5-e166-4efe-bfdd-ad2a05d4cb80",
   "metadata": {},
   "outputs": [
    {
     "name": "stdout",
     "output_type": "stream",
     "text": [
      "Output: c\n"
     ]
    }
   ],
   "source": [
    "#21)\n",
    "def next_greatest_letter(letters, target):\n",
    "    left, right = 0, len(letters)\n",
    "\n",
    "    while left < right:\n",
    "        mid = left + (right - left) // 2\n",
    "\n",
    "        if letters[mid] <= target:\n",
    "            left = mid + 1\n",
    "        else:\n",
    "            right = mid\n",
    "\n",
    "    return letters[left % len(letters)]\n",
    "letters = ['c', 'f', 'j']\n",
    "target = 'a'\n",
    "output = next_greatest_letter(letters, target)\n",
    "print(\"Output:\", output)\n"
   ]
  },
  {
   "cell_type": "code",
   "execution_count": 22,
   "id": "01427124-c84b-4f4d-9dda-0c19f5e3ae2f",
   "metadata": {},
   "outputs": [
    {
     "name": "stdout",
     "output_type": "stream",
     "text": [
      "Output: [0, 0, 1, 1, 2, 2]\n"
     ]
    }
   ],
   "source": [
    "#22)\n",
    "def sortColors(nums):\n",
    "    low, mid, high = 0, 0, len(nums) - 1\n",
    "\n",
    "    while mid <= high:\n",
    "        if nums[mid] == 0:\n",
    "            nums[low], nums[mid] = nums[mid], nums[low]\n",
    "            low += 1\n",
    "            mid += 1\n",
    "        elif nums[mid] == 1:\n",
    "            mid += 1\n",
    "        else:\n",
    "            nums[mid], nums[high] = nums[high], nums[mid]\n",
    "            high -= 1\n",
    "nums = [2, 0, 2, 1, 1, 0]\n",
    "sortColors(nums)\n",
    "print(\"Output:\", nums)"
   ]
  },
  {
   "cell_type": "code",
   "execution_count": 23,
   "id": "2fda9d80-2f8f-4ce9-aefd-c3ba0c33d108",
   "metadata": {},
   "outputs": [
    {
     "name": "stdout",
     "output_type": "stream",
     "text": [
      "Output: 5\n"
     ]
    }
   ],
   "source": [
    "#23)\n",
    "import heapq\n",
    "\n",
    "def findKthLargest(nums, k):\n",
    "    min_heap = []\n",
    "\n",
    "    for num in nums:\n",
    "        heapq.heappush(min_heap, num)\n",
    "        if len(min_heap) > k:\n",
    "            heapq.heappop(min_heap)\n",
    "\n",
    "    return min_heap[0]\n",
    "nums = [3, 2, 1, 5, 6, 4]\n",
    "k = 2\n",
    "output = findKthLargest(nums, k)\n",
    "print(\"Output:\", output)\n"
   ]
  },
  {
   "cell_type": "code",
   "execution_count": 24,
   "id": "f39e42e7-5eb7-4374-bd7c-7dc78faef0b3",
   "metadata": {},
   "outputs": [
    {
     "name": "stdout",
     "output_type": "stream",
     "text": [
      "Output: [3, 5, 1, 6, 2, 4]\n"
     ]
    }
   ],
   "source": [
    "#24)\n",
    "def wiggleSort(nums):\n",
    "    n = len(nums)\n",
    "\n",
    "    for i in range(1, n, 2):\n",
    "        if i > 0 and nums[i] < nums[i - 1]:\n",
    "            nums[i], nums[i - 1] = nums[i - 1], nums[i]\n",
    "        if i < n - 1 and nums[i] < nums[i + 1]:\n",
    "            nums[i], nums[i + 1] = nums[i + 1], nums[i]\n",
    "\n",
    "nums = [3, 5, 2, 1, 6, 4]\n",
    "wiggleSort(nums)\n",
    "print(\"Output:\", nums)"
   ]
  },
  {
   "cell_type": "code",
   "execution_count": 25,
   "id": "82984cb6-7270-45a1-9bfd-d001e1197d2d",
   "metadata": {},
   "outputs": [
    {
     "name": "stdout",
     "output_type": "stream",
     "text": [
      "Output: 15\n"
     ]
    }
   ],
   "source": [
    "#25)\n",
    "def calculate_sum(nums):\n",
    "    return sum(nums)\n",
    "input_array = [1, 2, 3, 4, 5]\n",
    "output = calculate_sum(input_array)\n",
    "print(\"Output:\", output)\n"
   ]
  },
  {
   "cell_type": "code",
   "execution_count": 26,
   "id": "495543f3-28cf-421d-9a40-d367c0e4a15f",
   "metadata": {},
   "outputs": [
    {
     "name": "stdout",
     "output_type": "stream",
     "text": [
      "Output: 9\n"
     ]
    }
   ],
   "source": [
    "#26)\n",
    "def find_max_element(nums):\n",
    "    return max(nums)\n",
    "input_array = [3, 7, 2, 9, 4, 1]\n",
    "output = find_max_element(input_array)\n",
    "print(\"Output:\", output)\n"
   ]
  },
  {
   "cell_type": "code",
   "execution_count": 27,
   "id": "4b47b089-eaf2-4646-8cdc-9a0be0e3a061",
   "metadata": {},
   "outputs": [
    {
     "name": "stdout",
     "output_type": "stream",
     "text": [
      "Output: 2\n"
     ]
    }
   ],
   "source": [
    "#27)\n",
    "def linear_search(nums, target):\n",
    "    for i in range(len(nums)):\n",
    "        if nums[i] == target:\n",
    "            return i\n",
    "    return -1  \n",
    "input_array = [5, 3, 8, 2, 7, 4]\n",
    "target_element = 8\n",
    "output = linear_search(input_array, target_element)\n",
    "print(\"Output:\", output)\n"
   ]
  },
  {
   "cell_type": "code",
   "execution_count": 28,
   "id": "e896a206-6543-447f-847f-2d5d16d0d867",
   "metadata": {},
   "outputs": [
    {
     "name": "stdout",
     "output_type": "stream",
     "text": [
      "Output: 120\n"
     ]
    }
   ],
   "source": [
    "#28)\n",
    "def factorial(n):\n",
    "    result = 1\n",
    "    for i in range(1, n + 1):\n",
    "        result *= i\n",
    "    return result\n",
    "input_number = 5\n",
    "output = factorial(input_number)\n",
    "print(\"Output:\", output)"
   ]
  },
  {
   "cell_type": "code",
   "execution_count": 29,
   "id": "06a6e5c2-89f8-48aa-bf63-a29a53859694",
   "metadata": {},
   "outputs": [
    {
     "name": "stdout",
     "output_type": "stream",
     "text": [
      "Output: True\n"
     ]
    }
   ],
   "source": [
    "#29)\n",
    "def is_prime(number):\n",
    "    if number < 2:\n",
    "        return False\n",
    "    for i in range(2, int(number**0.5) + 1):\n",
    "        if number % i == 0:\n",
    "            return False\n",
    "    return True\n",
    "input_number = 7\n",
    "output = is_prime(input_number)\n",
    "print(\"Output:\", output)"
   ]
  },
  {
   "cell_type": "code",
   "execution_count": 30,
   "id": "0f5cec44-8254-4fcd-9764-bcd68fe223c6",
   "metadata": {},
   "outputs": [
    {
     "name": "stdout",
     "output_type": "stream",
     "text": [
      "Output: [0, 1, 1, 2, 3, 5, 8, 13]\n"
     ]
    }
   ],
   "source": [
    "#30)\n",
    "def generate_fibonacci_series(n):\n",
    "    fibonacci_series = [0, 1]\n",
    "    while fibonacci_series[-1] + fibonacci_series[-2] <= n:\n",
    "        fibonacci_series.append(fibonacci_series[-1] + fibonacci_series[-2])\n",
    "    return fibonacci_series\n",
    "input_number = 13\n",
    "output = generate_fibonacci_series(input_number)\n",
    "print(\"Output:\", output)"
   ]
  },
  {
   "cell_type": "code",
   "execution_count": 31,
   "id": "d1a2ddbf-76d8-40e3-9ed3-18b0f11604c6",
   "metadata": {},
   "outputs": [
    {
     "name": "stdout",
     "output_type": "stream",
     "text": [
      "Output: 81\n"
     ]
    }
   ],
   "source": [
    "#31)\n",
    "def power(base, exponent):\n",
    "    if exponent == 0:\n",
    "        return 1\n",
    "    else:\n",
    "        return base * power(base, exponent - 1)\n",
    "base = 3\n",
    "exponent = 4\n",
    "output = power(base, exponent)\n",
    "print(\"Output:\", output)"
   ]
  },
  {
   "cell_type": "code",
   "execution_count": 32,
   "id": "6966c6e2-c283-4a50-ba82-8e07e47d3707",
   "metadata": {},
   "outputs": [
    {
     "name": "stdout",
     "output_type": "stream",
     "text": [
      "Output: olleh\n"
     ]
    }
   ],
   "source": [
    "#32)\n",
    "def reverse_string(input_string):\n",
    "    return input_string[::-1]\n",
    "input_string = \"hello\"\n",
    "output = reverse_string(input_string)\n",
    "print(\"Output:\", output)"
   ]
  }
 ],
 "metadata": {
  "kernelspec": {
   "display_name": "Python 3 (ipykernel)",
   "language": "python",
   "name": "python3"
  },
  "language_info": {
   "codemirror_mode": {
    "name": "ipython",
    "version": 3
   },
   "file_extension": ".py",
   "mimetype": "text/x-python",
   "name": "python",
   "nbconvert_exporter": "python",
   "pygments_lexer": "ipython3",
   "version": "3.10.8"
  }
 },
 "nbformat": 4,
 "nbformat_minor": 5
}
